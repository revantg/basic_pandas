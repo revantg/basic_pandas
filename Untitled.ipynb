{
 "cells": [
  {
   "cell_type": "markdown",
   "metadata": {},
   "source": [
    "## -------------------------- Basic Imports -------------------------- ##\n",
    "import pandas as pd\n",
    "import numpy as np\n",
    "import matplotlib.pyplot as plt\n",
    "import pickle\n",
    "from matplotlib import style\n",
    "style.use('fivethirtyeight')\n",
    "## ------------------------------------------------------------------- ##\n",
    "\n",
    "## --- Extracting all the DataFrames on the webpage for Indicators --- ##\n",
    "dfs = pd.read_html('WWDI.html')\n",
    "# For Testing Purposes\n",
    "[print(df.head()) for df in dfs] \n",
    "df = dfs[1]\n",
    "print(df.head())\n",
    "## ------------------------------------------------------------------- ##\n",
    "\n",
    "## Saving all the Indicators and their Descriptions from the DataFrame ##\n",
    "indicators = [code for code in df['CODE'].tolist()]\n",
    "indicators_index = [i for i in df['INDICATOR'].tolist()]\n",
    "temp_df = pd.DataFrame(np.column_stack((np.asarray(indicators_index), np.asarray(indicators))))\n",
    "print(temp_df.head())\n",
    "## ------------------------------------------------------------------- ##\n",
    "\n",
    "\n",
    "## ---Getting Country Codes for all the asian countries ---- ##\n",
    "# (Too many countries clutter the graph)\n",
    "df_temp = pd.read_html('Country_Codes2.html')\n",
    "df = df_temp[0] # For Testing Purposes\n",
    "print(df.sample()) #For testing purposes\n",
    "a_c_codes = [df['alpha-3'][i] for i in range(len(df['country-code'])) if df['region'][i] == 'Asia' ]\n",
    "## --------------------------------------------------------- ##\n",
    "\n",
    "## -----------------Defining Quandl Auth-Token-------------- ##\n",
    "import quandl\n",
    "api_key = 'zQDZMnBsC_6bNDkviXpy'\n",
    "## --------------------------------------------------------- ##\n",
    "\n",
    "## --Selecting a Random parameter from the indicators list-- ##\n",
    "parameter = 'IT_NET_BBND_P2'\n",
    "print(\"Visualizing Data for the Parameter = {0} : {1}\".format(indicators_index[indicators.index(parameter)], parameter))"
   ]
  },
  {
   "cell_type": "code",
   "execution_count": 3,
   "metadata": {},
   "outputs": [
    {
     "data": {
      "text/plain": [
       "51"
      ]
     },
     "execution_count": 3,
     "metadata": {},
     "output_type": "execute_result"
    }
   ],
   "source": [
    "df_temp = pd.read_html('Country_Codes2.html')\n",
    "df = df_temp[0]\n",
    "a_c_codes = [df['alpha-3'][i] for i in range(len(df['country-code'])) if df['region'][i] == 'Asia' ]\n",
    "len(a_c_codes)"
   ]
  }
 ],
 "metadata": {
  "kernelspec": {
   "display_name": "Python 3",
   "language": "python",
   "name": "python3"
  },
  "language_info": {
   "codemirror_mode": {
    "name": "ipython",
    "version": 3
   },
   "file_extension": ".py",
   "mimetype": "text/x-python",
   "name": "python",
   "nbconvert_exporter": "python",
   "pygments_lexer": "ipython3",
   "version": "3.6.3"
  }
 },
 "nbformat": 4,
 "nbformat_minor": 2
}
